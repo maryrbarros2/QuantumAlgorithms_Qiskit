{
 "cells": [
  {
   "cell_type": "markdown",
   "id": "dec573c7",
   "metadata": {},
   "source": [
    "Following the Qiskit textbook: https://qiskit.org/textbook/\n",
    "\n",
    "@Mariana R. Barros"
   ]
  },
  {
   "cell_type": "code",
   "execution_count": 1,
   "id": "ff204e6b",
   "metadata": {},
   "outputs": [],
   "source": [
    "from qiskit import QuantumCircuit, Aer, assemble\n",
    "from math import pi\n",
    "import numpy as np\n",
    "from qiskit.visualization import plot_histogram, plot_bloch_multivector"
   ]
  },
  {
   "cell_type": "markdown",
   "id": "4daefb52",
   "metadata": {},
   "source": [
    "# Representing Multi-Qubit States \n",
    "\n",
    "$$|a⟩ = a_{00} |00⟩+ a_{01}|01⟩ + a_{10}|10⟩ + a_{11}|11⟩ =  \\left\\lceil \n",
    "\\begin{matrix}\n",
    "a_{00} \\\\\n",
    "a_{01}\\\\\n",
    "a_{10}\\\\\n",
    "a_{11}\n",
    "\\end{matrix}\n",
    "\\right\\rceil$$\n",
    "\n",
    "\n",
    "$$p(|00⟩)=|⟨00|a⟩|^{2} = |a_{00}|^{2}$$\n",
    "\n",
    "$$|a_{00}|ˆ{2}+ |a_{01}|ˆ{2} + |a_{01}|ˆ{2} + |a_{11}|ˆ{2} = 1$$\n",
    "\n",
    "Yet, if \n",
    "\n",
    "$|a⟩ =  \\left\\lceil \n",
    "\\begin{matrix}\n",
    "a_{0} \\\\\n",
    "a_{1}\n",
    "\\end{matrix}\n",
    "\\right\\rceil$  and \n",
    "$|b⟩ =  \\left\\lceil \n",
    "\\begin{matrix}\n",
    "b_{0} \\\\\n",
    "b_{1}\n",
    "\\end{matrix}\n",
    "\\right\\rceil$, then \n",
    "\n",
    "$$|ba⟩ =  \\left\\lceil \n",
    "\\begin{matrix}\n",
    "b_{0} \\times \\left\\lceil\\begin{matrix}\n",
    "a_{0} \\\\\n",
    "a_{1}\n",
    "\\end{matrix}\\right\\rceil \\\\\n",
    "b_{1} \\times \\left\\lceil \\begin{matrix}\n",
    "a_{0} \\\\\n",
    "a_{1}\n",
    "\\end{matrix} \\right\\rceil\n",
    "\\end{matrix}\n",
    "\\right\\rceil = \\left\\lceil \n",
    "\\begin{matrix}\n",
    "b_{0}a_{0} \\\\\n",
    "b_{0}a_{1}\\\\\n",
    "b_{1}a_{0}\\\\\n",
    "b_{1}a_{1}\n",
    "\\end{matrix}\n",
    "\\right\\rceil $$"
   ]
  },
  {
   "cell_type": "code",
   "execution_count": 2,
   "id": "ebb4cd29",
   "metadata": {},
   "outputs": [
    {
     "data": {
      "text/html": [
       "<pre style=\"word-wrap: normal;white-space: pre;background: #fff0;line-height: 1.1;font-family: &quot;Courier New&quot;,Courier,monospace\">     ┌───┐\n",
       "q_0: ┤ H ├\n",
       "     ├───┤\n",
       "q_1: ┤ H ├\n",
       "     ├───┤\n",
       "q_2: ┤ H ├\n",
       "     └───┘</pre>"
      ],
      "text/plain": [
       "     ┌───┐\n",
       "q_0: ┤ H ├\n",
       "     ├───┤\n",
       "q_1: ┤ H ├\n",
       "     ├───┤\n",
       "q_2: ┤ H ├\n",
       "     └───┘"
      ]
     },
     "execution_count": 2,
     "metadata": {},
     "output_type": "execute_result"
    }
   ],
   "source": [
    "qc = QuantumCircuit(3)\n",
    "# Apply H-gate to each qubit:\n",
    "for qubit in range(3):\n",
    "    qc.h(qubit)\n",
    "# See the circuit:\n",
    "qc.draw()"
   ]
  },
  {
   "cell_type": "markdown",
   "id": "61da4451",
   "metadata": {},
   "source": [
    "Each qubit is in the state  |+⟩ , so we should see the vector:\n",
    "\n",
    "$$ |+++⟩ = \\frac{1}{\\sqrt(8)}\\left\\lceil \n",
    "\\begin{matrix}\n",
    "1 \\\\\n",
    "1\\\\\n",
    "1\\\\\n",
    "1\\\\\n",
    "1\\\\\n",
    "1\\\\\n",
    "1\\\\\n",
    "1  \n",
    "\\end{matrix}\n",
    "\\right\\rceil$$\n"
   ]
  },
  {
   "cell_type": "code",
   "execution_count": 3,
   "id": "7b0392ed",
   "metadata": {},
   "outputs": [
    {
     "data": {
      "text/latex": [
       "$$\n",
       "\\text{Statevector} = \n",
       "\\begin{bmatrix}\n",
       "\\tfrac{1}{\\sqrt{8}} & \\tfrac{1}{\\sqrt{8}} & \\tfrac{1}{\\sqrt{8}} & \\tfrac{1}{\\sqrt{8}} & \\tfrac{1}{\\sqrt{8}} & \\tfrac{1}{\\sqrt{8}} & \\tfrac{1}{\\sqrt{8}} & \\tfrac{1}{\\sqrt{8}}  \\\\\n",
       " \\end{bmatrix}\n",
       "$$"
      ],
      "text/plain": [
       "<IPython.core.display.Latex object>"
      ]
     },
     "execution_count": 3,
     "metadata": {},
     "output_type": "execute_result"
    }
   ],
   "source": [
    "# Let's see the result\n",
    "svsim = Aer.get_backend('aer_simulator')\n",
    "qc.save_statevector()\n",
    "qobj = assemble(qc)\n",
    "final_state = svsim.run(qobj).result().get_statevector()\n",
    "\n",
    "# In Jupyter Notebooks we can display this nicely using Latex.\n",
    "# If not using Jupyter Notebooks you may need to remove the \n",
    "# array_to_latex function and use print(final_state) instead.\n",
    "from qiskit.visualization import array_to_latex\n",
    "array_to_latex(final_state, prefix=\"\\\\text{Statevector} = \")"
   ]
  },
  {
   "cell_type": "markdown",
   "id": "e7d71b15",
   "metadata": {},
   "source": [
    "#### Writting other states:"
   ]
  },
  {
   "cell_type": "code",
   "execution_count": 4,
   "id": "6ac8ac89",
   "metadata": {},
   "outputs": [
    {
     "data": {
      "text/html": [
       "<pre style=\"word-wrap: normal;white-space: pre;background: #fff0;line-height: 1.1;font-family: &quot;Courier New&quot;,Courier,monospace\">     ┌───┐\n",
       "q_0: ┤ H ├\n",
       "     ├───┤\n",
       "q_1: ┤ X ├\n",
       "     └───┘</pre>"
      ],
      "text/plain": [
       "     ┌───┐\n",
       "q_0: ┤ H ├\n",
       "     ├───┤\n",
       "q_1: ┤ X ├\n",
       "     └───┘"
      ]
     },
     "execution_count": 4,
     "metadata": {},
     "output_type": "execute_result"
    }
   ],
   "source": [
    "qc2 = QuantumCircuit(2)\n",
    "\n",
    "qc2.h(0)\n",
    "qc2.x(1)\n",
    "# See the circuit:\n",
    "qc2.draw()"
   ]
  },
  {
   "cell_type": "code",
   "execution_count": 5,
   "id": "6bb16ffc",
   "metadata": {},
   "outputs": [
    {
     "data": {
      "text/latex": [
       "$$\n",
       "\\text{Statevector} = \n",
       "\\begin{bmatrix}\n",
       "0 & 0 & \\tfrac{1}{\\sqrt{2}} & \\tfrac{1}{\\sqrt{2}}  \\\\\n",
       " \\end{bmatrix}\n",
       "$$"
      ],
      "text/plain": [
       "<IPython.core.display.Latex object>"
      ]
     },
     "execution_count": 5,
     "metadata": {},
     "output_type": "execute_result"
    }
   ],
   "source": [
    "# Let's see the result\n",
    "svsim = Aer.get_backend('aer_simulator')\n",
    "qc2.save_statevector()\n",
    "qobj2 = assemble(qc2)\n",
    "final_state2 = svsim.run(qobj2).result().get_statevector()\n",
    "\n",
    "# In Jupyter Notebooks we can display this nicely using Latex.\n",
    "# If not using Jupyter Notebooks you may need to remove the \n",
    "# array_to_latex function and use print(final_state) instead.\n",
    "from qiskit.visualization import array_to_latex\n",
    "array_to_latex(final_state2, prefix=\"\\\\text{Statevector} = \")"
   ]
  },
  {
   "cell_type": "markdown",
   "id": "9dc63663",
   "metadata": {},
   "source": [
    "##  Single Qubit Gates on Multi-Qubit Statevectors"
   ]
  },
  {
   "cell_type": "markdown",
   "id": "bfb2f5e4",
   "metadata": {},
   "source": [
    "Just as we used the tensor product to calculate multi-qubit statevectors, we use the tensor product to calculate matrices that act on these statevectors.\n",
    "\n",
    "We can represent the simultaneous operations (H & X) using their tensor product:\n",
    "\n",
    "$$X |q_{1}⟩ \\otimes H|q_{0}⟩ = (X \\otimes H) |q_{1} q_{0}⟩  $$\n",
    "\n",
    "\n",
    "Therefore, \n",
    "\n",
    "$$ X \\otimes H = \\left\\lceil \n",
    "\\begin{matrix}\n",
    "0 & H \\\\\n",
    "H & 0\\\\\n",
    "\\end{matrix}\n",
    "\\right\\rceil$$\n",
    "\n",
    "\n",
    "Instead of calculating this by hand, we can use Qiskit’s aer_simulator to calculate this for us. The unitary simulator multiplies all the gates in our circuit together to compile a single unitary matrix that performs the whole quantum circuit:"
   ]
  },
  {
   "cell_type": "code",
   "execution_count": 6,
   "id": "444e97d9",
   "metadata": {},
   "outputs": [
    {
     "data": {
      "text/html": [
       "<pre style=\"word-wrap: normal;white-space: pre;background: #fff0;line-height: 1.1;font-family: &quot;Courier New&quot;,Courier,monospace\">     ┌───┐\n",
       "q_0: ┤ H ├\n",
       "     ├───┤\n",
       "q_1: ┤ X ├\n",
       "     └───┘</pre>"
      ],
      "text/plain": [
       "     ┌───┐\n",
       "q_0: ┤ H ├\n",
       "     ├───┤\n",
       "q_1: ┤ X ├\n",
       "     └───┘"
      ]
     },
     "execution_count": 6,
     "metadata": {},
     "output_type": "execute_result"
    }
   ],
   "source": [
    "qc = QuantumCircuit(2)\n",
    "qc.h(0)\n",
    "qc.x(1)\n",
    "qc.draw()"
   ]
  },
  {
   "cell_type": "code",
   "execution_count": 7,
   "id": "4f1f9126",
   "metadata": {},
   "outputs": [],
   "source": [
    "usim = Aer.get_backend('aer_simulator')\n",
    "qc.save_unitary()\n",
    "qobj = assemble(qc)\n",
    "unitary = usim.run(qobj).result().get_unitary()"
   ]
  },
  {
   "cell_type": "code",
   "execution_count": 8,
   "id": "e219e68f",
   "metadata": {},
   "outputs": [
    {
     "data": {
      "text/latex": [
       "$$\n",
       "\\text{Circuit = }\n",
       "\n",
       "\\begin{bmatrix}\n",
       "0 & 0 & \\tfrac{1}{\\sqrt{2}} & \\tfrac{1}{\\sqrt{2}}  \\\\\n",
       " 0 & 0 & \\tfrac{1}{\\sqrt{2}} & -\\tfrac{1}{\\sqrt{2}}  \\\\\n",
       " \\tfrac{1}{\\sqrt{2}} & \\tfrac{1}{\\sqrt{2}} & 0 & 0  \\\\\n",
       " \\tfrac{1}{\\sqrt{2}} & -\\tfrac{1}{\\sqrt{2}} & 0 & 0  \\\\\n",
       " \\end{bmatrix}\n",
       "$$"
      ],
      "text/plain": [
       "<IPython.core.display.Latex object>"
      ]
     },
     "execution_count": 8,
     "metadata": {},
     "output_type": "execute_result"
    }
   ],
   "source": [
    "# In Jupyter Notebooks we can display this nicely using Latex.\n",
    "# If not using Jupyter Notebooks you may need to remove the \n",
    "# array_to_latex function and use print(unitary) instead.\n",
    "from qiskit.visualization import array_to_latex\n",
    "array_to_latex(unitary, prefix=\"\\\\text{Circuit = }\\n\")"
   ]
  },
  {
   "cell_type": "markdown",
   "id": "9be0e6d7",
   "metadata": {},
   "source": [
    "If we want to apply a gate to only one qubit at a time (such as in the circuit below), we describe this using tensor product with the identity matrix, e.g.:\n",
    "\n",
    "$$X \\otimes  I $$"
   ]
  },
  {
   "cell_type": "code",
   "execution_count": 9,
   "id": "4feeb3c2",
   "metadata": {},
   "outputs": [
    {
     "data": {
      "text/html": [
       "<pre style=\"word-wrap: normal;white-space: pre;background: #fff0;line-height: 1.1;font-family: &quot;Courier New&quot;,Courier,monospace\">          \n",
       "q_0: ─────\n",
       "     ┌───┐\n",
       "q_1: ┤ X ├\n",
       "     └───┘</pre>"
      ],
      "text/plain": [
       "          \n",
       "q_0: ─────\n",
       "     ┌───┐\n",
       "q_1: ┤ X ├\n",
       "     └───┘"
      ]
     },
     "execution_count": 9,
     "metadata": {},
     "output_type": "execute_result"
    }
   ],
   "source": [
    "qc = QuantumCircuit(2)\n",
    "qc.x(1)\n",
    "qc.draw()"
   ]
  },
  {
   "cell_type": "code",
   "execution_count": 10,
   "id": "1563a8bf",
   "metadata": {},
   "outputs": [
    {
     "data": {
      "text/latex": [
       "$$\n",
       "\\text{Circuit = } \n",
       "\\begin{bmatrix}\n",
       "0 & 0 & 1 & 0  \\\\\n",
       " 0 & 0 & 0 & 1  \\\\\n",
       " 1 & 0 & 0 & 0  \\\\\n",
       " 0 & 1 & 0 & 0  \\\\\n",
       " \\end{bmatrix}\n",
       "$$"
      ],
      "text/plain": [
       "<IPython.core.display.Latex object>"
      ]
     },
     "execution_count": 10,
     "metadata": {},
     "output_type": "execute_result"
    }
   ],
   "source": [
    "# Simulate the unitary\n",
    "usim = Aer.get_backend('aer_simulator')\n",
    "qc.save_unitary()\n",
    "qobj = assemble(qc)\n",
    "unitary = usim.run(qobj).result().get_unitary()\n",
    "# Display the results:\n",
    "array_to_latex(unitary, prefix=\"\\\\text{Circuit = } \")"
   ]
  },
  {
   "cell_type": "markdown",
   "id": "9e9cd10d",
   "metadata": {},
   "source": [
    "# Multi-Qubit Gates "
   ]
  },
  {
   "cell_type": "markdown",
   "id": "32ea0fb6",
   "metadata": {},
   "source": [
    "## CNOT-Gate"
   ]
  },
  {
   "cell_type": "code",
   "execution_count": 11,
   "id": "d06272b0",
   "metadata": {},
   "outputs": [
    {
     "data": {
      "text/html": [
       "<pre style=\"word-wrap: normal;white-space: pre;background: #fff0;line-height: 1.1;font-family: &quot;Courier New&quot;,Courier,monospace\">          \n",
       "q_0: ──■──\n",
       "     ┌─┴─┐\n",
       "q_1: ┤ X ├\n",
       "     └───┘</pre>"
      ],
      "text/plain": [
       "          \n",
       "q_0: ──■──\n",
       "     ┌─┴─┐\n",
       "q_1: ┤ X ├\n",
       "     └───┘"
      ]
     },
     "execution_count": 11,
     "metadata": {},
     "output_type": "execute_result"
    }
   ],
   "source": [
    "qc = QuantumCircuit(2)\n",
    "# Apply CNOT\n",
    "qc.cx(0,1)\n",
    "# See the circuit:\n",
    "qc.draw()"
   ]
  },
  {
   "cell_type": "markdown",
   "id": "70e2c62a",
   "metadata": {},
   "source": [
    "We have seen how this acts on classical states, but let’s now see how it acts on a qubit in superposition. We will put one qubit in the state  \n",
    "|+⟩ :"
   ]
  },
  {
   "cell_type": "code",
   "execution_count": 12,
   "id": "6073a84f",
   "metadata": {},
   "outputs": [
    {
     "data": {
      "text/latex": [
       "$$\n",
       "\\text{Statevector = }\n",
       "\\begin{bmatrix}\n",
       "\\tfrac{1}{\\sqrt{2}} & \\tfrac{1}{\\sqrt{2}} & 0 & 0  \\\\\n",
       " \\end{bmatrix}\n",
       "$$"
      ],
      "text/plain": [
       "<IPython.core.display.Latex object>"
      ]
     },
     "execution_count": 12,
     "metadata": {},
     "output_type": "execute_result"
    }
   ],
   "source": [
    "#Writting (and checking) the initial state |0+>:\n",
    "qc = QuantumCircuit(2)\n",
    "# Apply H-gate to the first:\n",
    "qc.h(0)\n",
    "\n",
    "# Let's see the result:\n",
    "svsim = Aer.get_backend('aer_simulator')\n",
    "qc.save_statevector()\n",
    "qobj = assemble(qc)\n",
    "final_state = svsim.run(qobj).result().get_statevector()\n",
    "# Print the statevector neatly:\n",
    "array_to_latex(final_state, prefix=\"\\\\text{Statevector = }\")"
   ]
  },
  {
   "cell_type": "code",
   "execution_count": 13,
   "id": "0e1c2c70",
   "metadata": {},
   "outputs": [
    {
     "data": {
      "text/html": [
       "<pre style=\"word-wrap: normal;white-space: pre;background: #fff0;line-height: 1.1;font-family: &quot;Courier New&quot;,Courier,monospace\">     ┌───┐     \n",
       "q_0: ┤ H ├──■──\n",
       "     └───┘┌─┴─┐\n",
       "q_1: ─────┤ X ├\n",
       "          └───┘</pre>"
      ],
      "text/plain": [
       "     ┌───┐     \n",
       "q_0: ┤ H ├──■──\n",
       "     └───┘┌─┴─┐\n",
       "q_1: ─────┤ X ├\n",
       "          └───┘"
      ]
     },
     "execution_count": 13,
     "metadata": {},
     "output_type": "execute_result"
    }
   ],
   "source": [
    "#Now,applying h to the |0+> state:\n",
    "qc = QuantumCircuit(2)\n",
    "# Apply H-gate to the first:\n",
    "qc.h(0)\n",
    "# Apply a CNOT:\n",
    "qc.cx(0,1)\n",
    "qc.draw()"
   ]
  },
  {
   "cell_type": "code",
   "execution_count": 14,
   "id": "8fe52cb6",
   "metadata": {},
   "outputs": [
    {
     "data": {
      "text/latex": [
       "$$\n",
       "\\text{Statevector = }\n",
       "\\begin{bmatrix}\n",
       "\\tfrac{1}{\\sqrt{2}} & 0 & 0 & \\tfrac{1}{\\sqrt{2}}  \\\\\n",
       " \\end{bmatrix}\n",
       "$$"
      ],
      "text/plain": [
       "<IPython.core.display.Latex object>"
      ]
     },
     "execution_count": 14,
     "metadata": {},
     "output_type": "execute_result"
    }
   ],
   "source": [
    "# Let's get the result:\n",
    "qc.save_statevector()\n",
    "qobj = assemble(qc)\n",
    "result = svsim.run(qobj).result()\n",
    "# Print the statevector neatly:\n",
    "final_state = result.get_statevector()\n",
    "array_to_latex(final_state, prefix=\"\\\\text{Statevector = }\")"
   ]
  },
  {
   "cell_type": "markdown",
   "id": "7a20cd71",
   "metadata": {},
   "source": [
    "# Entangled States"
   ]
  },
  {
   "cell_type": "markdown",
   "id": "b3b7eb35",
   "metadata": {},
   "source": [
    "We saw in the previous section we could create the state:\n",
    "\n",
    "$$\\frac{1}{\\sqrt{2}} (|00⟩ + |11⟩)$$\n",
    "\n",
    "\n",
    "\n",
    "This is known as a Bell state. We can see that this state has 50% probability of being measured in the state  |00⟩, and 50% chance of being measured in the state  |11⟩. Most interestingly, it has a 0% chance of being measured in the states  |01⟩ or |10⟩. \n",
    " We can see this in Qiskit:"
   ]
  },
  {
   "cell_type": "code",
   "execution_count": 15,
   "id": "82b0fcb6",
   "metadata": {},
   "outputs": [
    {
     "data": {
      "image/png": "[encoded data removed]",
      "text/plain": [
       "<Figure size 504x360 with 1 Axes>"
      ]
     },
     "execution_count": 15,
     "metadata": {},
     "output_type": "execute_result"
    }
   ],
   "source": [
    "plot_histogram(result.get_counts())\n"
   ]
  },
  {
   "cell_type": "markdown",
   "id": "d522d457",
   "metadata": {},
   "source": [
    "### Visualizing Entangled States"
   ]
  },
  {
   "cell_type": "code",
   "execution_count": 16,
   "id": "46a6b3b0",
   "metadata": {},
   "outputs": [
    {
     "data": {
      "image/png": "[encoded data removed]",
      "text/plain": [
       "<Figure size 504x504 with 2 Axes>"
      ]
     },
     "execution_count": 16,
     "metadata": {},
     "output_type": "execute_result"
    }
   ],
   "source": [
    "from qiskit.visualization import plot_state_qsphere\n",
    "plot_state_qsphere(final_state)"
   ]
  },
  {
   "cell_type": "markdown",
   "id": "08a5ab1f",
   "metadata": {},
   "source": [
    "Here we can clearly see the correlation between the qubits. The Q-sphere's shape has no significance, it is simply a nice way of arranging our blobs; the number of 0s in the state is proportional to the states position on the Z-axis, so here we can see the amplitude of  \n",
    "|00⟩  is at the top pole of the sphere, and the amplitude of  |11⟩  is at the bottom pole of the sphere.\n",
    "\n"
   ]
  }
 ],
 "metadata": {
  "kernelspec": {
   "display_name": "Python 3",
   "language": "python",
   "name": "python3"
  },
  "language_info": {
   "codemirror_mode": {
    "name": "ipython",
    "version": 3
   },
   "file_extension": ".py",
   "mimetype": "text/x-python",
   "name": "python",
   "nbconvert_exporter": "python",
   "pygments_lexer": "ipython3",
   "version": "3.8.8"
  }
 },
 "nbformat": 4,
 "nbformat_minor": 5
}
