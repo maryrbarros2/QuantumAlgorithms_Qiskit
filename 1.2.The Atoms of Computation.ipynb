{
 "cells": [
  {
   "cell_type": "markdown",
   "id": "d527110c",
   "metadata": {},
   "source": [
    "Following the Qiskit textbook: https://qiskit.org/textbook/\n",
    "\n",
    "@Mariana R. Barros"
   ]
  },
  {
   "cell_type": "code",
   "execution_count": 1,
   "id": "911ad9d9",
   "metadata": {},
   "outputs": [],
   "source": [
    "from qiskit import QuantumCircuit, assemble, Aer\n",
    "from qiskit.visualization import plot_histogram"
   ]
  },
  {
   "cell_type": "code",
   "execution_count": 2,
   "id": "4a657356",
   "metadata": {},
   "outputs": [
    {
     "data": {
      "application/vnd.jupyter.widget-view+json": {
       "model_id": "fd93cf1315254d45984c12cb32d0a57c",
       "version_major": 2,
       "version_minor": 0
      },
      "text/plain": [
       "VBox(children=(Label(value='Toggle the bits below to change the binary number.'), Label(value='Think of a numb…"
      ]
     },
     "metadata": {},
     "output_type": "display_data"
    },
    {
     "data": {
      "application/vnd.jupyter.widget-view+json": {
       "model_id": "b116bf644b854fc09ded57bf9e747c0b",
       "version_major": 2,
       "version_minor": 0
      },
      "text/plain": [
       "HTML(value='<pre>Binary    Decimal\\n 000000 = 0</pre>')"
      ]
     },
     "metadata": {},
     "output_type": "display_data"
    }
   ],
   "source": [
    "from qiskit_textbook.widgets import binary_widget\n",
    "binary_widget(nbits=6)"
   ]
  },
  {
   "cell_type": "markdown",
   "id": "fc7b5a8a",
   "metadata": {},
   "source": [
    "## First quantum circuit"
   ]
  },
  {
   "cell_type": "code",
   "execution_count": 3,
   "id": "c50484c6",
   "metadata": {},
   "outputs": [],
   "source": [
    "n = 8\n",
    "n_q = n #number of qubits in the circuit.\n",
    "n_b = n #number of output bits we will extract from the circuit at the end.\n",
    "qc_output = QuantumCircuit(n_q,n_b)"
   ]
  },
  {
   "cell_type": "code",
   "execution_count": 4,
   "id": "0ee01e7c",
   "metadata": {},
   "outputs": [],
   "source": [
    "#adding a measure operation to each of our eight qubits\n",
    "#.measure(j,j): adds a measurement to our circuit that tells qubit j to write an output to bit j\n",
    "for j in range(n):\n",
    "    qc_output.measure(j,j)"
   ]
  },
  {
   "cell_type": "code",
   "execution_count": 5,
   "id": "189c28b6",
   "metadata": {},
   "outputs": [
    {
     "data": {
      "text/html": [
       "<pre style=\"word-wrap: normal;white-space: pre;background: #fff0;line-height: 1.1;font-family: &quot;Courier New&quot;,Courier,monospace\">     ┌─┐                     \n",
       "q_0: ┤M├─────────────────────\n",
       "     └╥┘┌─┐                  \n",
       "q_1: ─╫─┤M├──────────────────\n",
       "      ║ └╥┘┌─┐               \n",
       "q_2: ─╫──╫─┤M├───────────────\n",
       "      ║  ║ └╥┘┌─┐            \n",
       "q_3: ─╫──╫──╫─┤M├────────────\n",
       "      ║  ║  ║ └╥┘┌─┐         \n",
       "q_4: ─╫──╫──╫──╫─┤M├─────────\n",
       "      ║  ║  ║  ║ └╥┘┌─┐      \n",
       "q_5: ─╫──╫──╫──╫──╫─┤M├──────\n",
       "      ║  ║  ║  ║  ║ └╥┘┌─┐   \n",
       "q_6: ─╫──╫──╫──╫──╫──╫─┤M├───\n",
       "      ║  ║  ║  ║  ║  ║ └╥┘┌─┐\n",
       "q_7: ─╫──╫──╫──╫──╫──╫──╫─┤M├\n",
       "      ║  ║  ║  ║  ║  ║  ║ └╥┘\n",
       "c: 8/═╩══╩══╩══╩══╩══╩══╩══╩═\n",
       "      0  1  2  3  4  5  6  7 </pre>"
      ],
      "text/plain": [
       "     ┌─┐                     \n",
       "q_0: ┤M├─────────────────────\n",
       "     └╥┘┌─┐                  \n",
       "q_1: ─╫─┤M├──────────────────\n",
       "      ║ └╥┘┌─┐               \n",
       "q_2: ─╫──╫─┤M├───────────────\n",
       "      ║  ║ └╥┘┌─┐            \n",
       "q_3: ─╫──╫──╫─┤M├────────────\n",
       "      ║  ║  ║ └╥┘┌─┐         \n",
       "q_4: ─╫──╫──╫──╫─┤M├─────────\n",
       "      ║  ║  ║  ║ └╥┘┌─┐      \n",
       "q_5: ─╫──╫──╫──╫──╫─┤M├──────\n",
       "      ║  ║  ║  ║  ║ └╥┘┌─┐   \n",
       "q_6: ─╫──╫──╫──╫──╫──╫─┤M├───\n",
       "      ║  ║  ║  ║  ║  ║ └╥┘┌─┐\n",
       "q_7: ─╫──╫──╫──╫──╫──╫──╫─┤M├\n",
       "      ║  ║  ║  ║  ║  ║  ║ └╥┘\n",
       "c: 8/═╩══╩══╩══╩══╩══╩══╩══╩═\n",
       "      0  1  2  3  4  5  6  7 "
      ]
     },
     "execution_count": 5,
     "metadata": {},
     "output_type": "execute_result"
    }
   ],
   "source": [
    "#Visualing the circuit\n",
    "qc_output.draw()"
   ]
  },
  {
   "cell_type": "markdown",
   "id": "9b75d5d1",
   "metadata": {},
   "source": [
    "Since we don't do anything to our qubits in the circuit above, and the qubits are always initialized to give the output 0, by running the circuit many times and plotting the results in a histogram we find that the result is always 00000000: a 0 from each qubit:"
   ]
  },
  {
   "cell_type": "code",
   "execution_count": 6,
   "id": "ca661cc1",
   "metadata": {},
   "outputs": [
    {
     "data": {
      "image/png": "[encoded data removed]",
      "text/plain": [
       "<Figure size 504x360 with 1 Axes>"
      ]
     },
     "execution_count": 6,
     "metadata": {},
     "output_type": "execute_result"
    }
   ],
   "source": [
    "sim = Aer.get_backend('aer_simulator')  # this is the simulator we'll use\n",
    "qobj = assemble(qc_output)  # this turns the circuit into an object our backend can run\n",
    "result = sim.run(qobj).result()  # we run the experiment and get the result from that experiment\n",
    "# from the results, we get a dictionary containing the number of times (counts)\n",
    "# each result appeared\n",
    "counts = result.get_counts()\n",
    "# and display it on a histogram\n",
    "plot_histogram(counts)"
   ]
  },
  {
   "cell_type": "markdown",
   "id": "f9686b97",
   "metadata": {},
   "source": [
    "#### Obs: \n",
    "This result comes from a quantum simulator, which is a standard computer calculating what an ideal quantum computer would do. Simulations are only possible for small numbers of qubits (~30 qubits).\n",
    "\n",
    "To run on a real device you simply need to replace Aer.get_backend('aer_simulator') with the backend object of the device you want to use."
   ]
  },
  {
   "cell_type": "markdown",
   "id": "a5c2006f",
   "metadata": {},
   "source": [
    "#### Example: Creating an Adder Circuit "
   ]
  },
  {
   "cell_type": "code",
   "execution_count": 7,
   "id": "9944847c",
   "metadata": {},
   "outputs": [
    {
     "data": {
      "text/html": [
       "<pre style=\"word-wrap: normal;white-space: pre;background: #fff0;line-height: 1.1;font-family: &quot;Courier New&quot;,Courier,monospace\">          \n",
       "q_0: ─────\n",
       "          \n",
       "q_1: ─────\n",
       "          \n",
       "q_2: ─────\n",
       "          \n",
       "q_3: ─────\n",
       "          \n",
       "q_4: ─────\n",
       "          \n",
       "q_5: ─────\n",
       "          \n",
       "q_6: ─────\n",
       "     ┌───┐\n",
       "q_7: ┤ X ├\n",
       "     └───┘</pre>"
      ],
      "text/plain": [
       "          \n",
       "q_0: ─────\n",
       "          \n",
       "q_1: ─────\n",
       "          \n",
       "q_2: ─────\n",
       "          \n",
       "q_3: ─────\n",
       "          \n",
       "q_4: ─────\n",
       "          \n",
       "q_5: ─────\n",
       "          \n",
       "q_6: ─────\n",
       "     ┌───┐\n",
       "q_7: ┤ X ├\n",
       "     └───┘"
      ]
     },
     "execution_count": 7,
     "metadata": {},
     "output_type": "execute_result"
    }
   ],
   "source": [
    "#NOT gate - i.e., X quantum gate\n",
    "qc_encode = QuantumCircuit(n) #creating a quantum circuit of n qbits\n",
    "qc_encode.x(7) #applying x gate into the 7th qubit\n",
    "qc_encode.draw() #drawing the circuit\n",
    "\n",
    "#obs: remember here that we already setted n = 8."
   ]
  },
  {
   "cell_type": "code",
   "execution_count": 8,
   "id": "ed5f4044",
   "metadata": {},
   "outputs": [
    {
     "name": "stderr",
     "output_type": "stream",
     "text": [
      "<ipython-input-8-124e0b37295c>:2: DeprecationWarning: The QuantumCircuit.__add__() method is being deprecated.Use the compose() method which is more flexible w.r.t circuit register compatibility.\n",
      "  qc = qc_encode + qc_output\n",
      "/opt/anaconda3/lib/python3.8/site-packages/qiskit/circuit/quantumcircuit.py:869: DeprecationWarning: The QuantumCircuit.combine() method is being deprecated. Use the compose() method which is more flexible w.r.t circuit register compatibility.\n",
      "  return self.combine(rhs)\n"
     ]
    },
    {
     "data": {
      "text/html": [
       "<pre style=\"word-wrap: normal;white-space: pre;background: #fff0;line-height: 1.1;font-family: &quot;Courier New&quot;,Courier,monospace\">          ┌─┐                     \n",
       "q_0: ─────┤M├─────────────────────\n",
       "          └╥┘┌─┐                  \n",
       "q_1: ──────╫─┤M├──────────────────\n",
       "           ║ └╥┘┌─┐               \n",
       "q_2: ──────╫──╫─┤M├───────────────\n",
       "           ║  ║ └╥┘┌─┐            \n",
       "q_3: ──────╫──╫──╫─┤M├────────────\n",
       "           ║  ║  ║ └╥┘┌─┐         \n",
       "q_4: ──────╫──╫──╫──╫─┤M├─────────\n",
       "           ║  ║  ║  ║ └╥┘┌─┐      \n",
       "q_5: ──────╫──╫──╫──╫──╫─┤M├──────\n",
       "           ║  ║  ║  ║  ║ └╥┘┌─┐   \n",
       "q_6: ──────╫──╫──╫──╫──╫──╫─┤M├───\n",
       "     ┌───┐ ║  ║  ║  ║  ║  ║ └╥┘┌─┐\n",
       "q_7: ┤ X ├─╫──╫──╫──╫──╫──╫──╫─┤M├\n",
       "     └───┘ ║  ║  ║  ║  ║  ║  ║ └╥┘\n",
       "c: 8/══════╩══╩══╩══╩══╩══╩══╩══╩═\n",
       "           0  1  2  3  4  5  6  7 </pre>"
      ],
      "text/plain": [
       "          ┌─┐                     \n",
       "q_0: ─────┤M├─────────────────────\n",
       "          └╥┘┌─┐                  \n",
       "q_1: ──────╫─┤M├──────────────────\n",
       "           ║ └╥┘┌─┐               \n",
       "q_2: ──────╫──╫─┤M├───────────────\n",
       "           ║  ║ └╥┘┌─┐            \n",
       "q_3: ──────╫──╫──╫─┤M├────────────\n",
       "           ║  ║  ║ └╥┘┌─┐         \n",
       "q_4: ──────╫──╫──╫──╫─┤M├─────────\n",
       "           ║  ║  ║  ║ └╥┘┌─┐      \n",
       "q_5: ──────╫──╫──╫──╫──╫─┤M├──────\n",
       "           ║  ║  ║  ║  ║ └╥┘┌─┐   \n",
       "q_6: ──────╫──╫──╫──╫──╫──╫─┤M├───\n",
       "     ┌───┐ ║  ║  ║  ║  ║  ║ └╥┘┌─┐\n",
       "q_7: ┤ X ├─╫──╫──╫──╫──╫──╫──╫─┤M├\n",
       "     └───┘ ║  ║  ║  ║  ║  ║  ║ └╥┘\n",
       "c: 8/══════╩══╩══╩══╩══╩══╩══╩══╩═\n",
       "           0  1  2  3  4  5  6  7 "
      ]
     },
     "execution_count": 8,
     "metadata": {},
     "output_type": "execute_result"
    }
   ],
   "source": [
    "#creating a new circuit that contains the n qbits + the measuremnt part  \n",
    "qc = qc_encode + qc_output\n",
    "qc.draw()"
   ]
  },
  {
   "cell_type": "code",
   "execution_count": 9,
   "id": "dadb6d00",
   "metadata": {},
   "outputs": [
    {
     "data": {
      "image/png": "[encoded data removed]",
      "text/plain": [
       "<Figure size 504x360 with 1 Axes>"
      ]
     },
     "execution_count": 9,
     "metadata": {},
     "output_type": "execute_result"
    }
   ],
   "source": [
    "#running and ploting the results\n",
    "qobj = assemble(qc)\n",
    "counts = sim.run(qobj).result().get_counts()\n",
    "plot_histogram(counts)"
   ]
  },
  {
   "cell_type": "markdown",
   "id": "50ec0be0",
   "metadata": {},
   "source": [
    "Now our computer outputs the string 10000000 instead.\n",
    "\n",
    "The bit we flipped, which comes from qubit 7, lives on the far left of the string. This is because Qiskit numbers the bits in a string from right to left. Some prefer to number their bits the other way around, but Qiskit's system certainly has its advantages when we are using the bits to represent numbers. \n",
    "\n",
    "Specifically, it means that qubit 7 is telling us about how many  \n",
    "2^7 s we have in our number. So by flipping this bit, we’ve now written the number 128 in our simple 8-bit computer."
   ]
  },
  {
   "cell_type": "code",
   "execution_count": 10,
   "id": "9ac386a6",
   "metadata": {},
   "outputs": [
    {
     "data": {
      "text/html": [
       "<pre style=\"word-wrap: normal;white-space: pre;background: #fff0;line-height: 1.1;font-family: &quot;Courier New&quot;,Courier,monospace\">          \n",
       "q_0: ─────\n",
       "          \n",
       "q_1: ─────\n",
       "     ┌───┐\n",
       "q_2: ┤ X ├\n",
       "     └───┘\n",
       "q_3: ─────\n",
       "          \n",
       "q_4: ─────\n",
       "     ┌───┐\n",
       "q_5: ┤ X ├\n",
       "     └───┘</pre>"
      ],
      "text/plain": [
       "          \n",
       "q_0: ─────\n",
       "          \n",
       "q_1: ─────\n",
       "     ┌───┐\n",
       "q_2: ┤ X ├\n",
       "     └───┘\n",
       "q_3: ─────\n",
       "          \n",
       "q_4: ─────\n",
       "     ┌───┐\n",
       "q_5: ┤ X ├\n",
       "     └───┘"
      ]
     },
     "execution_count": 10,
     "metadata": {},
     "output_type": "execute_result"
    }
   ],
   "source": [
    "#### Exercice: trying a new number: 36 =  100100\n",
    "qc_encode2 = QuantumCircuit(6)\n",
    "qc_encode2.x(2)\n",
    "qc_encode2.x(5)\n",
    "\n",
    "qc_encode2.draw()"
   ]
  },
  {
   "cell_type": "code",
   "execution_count": 11,
   "id": "60b4f9f0",
   "metadata": {},
   "outputs": [
    {
     "data": {
      "text/html": [
       "<pre style=\"word-wrap: normal;white-space: pre;background: #fff0;line-height: 1.1;font-family: &quot;Courier New&quot;,Courier,monospace\">     ┌─┐               \n",
       "q_0: ┤M├───────────────\n",
       "     └╥┘┌─┐            \n",
       "q_1: ─╫─┤M├────────────\n",
       "      ║ └╥┘┌─┐         \n",
       "q_2: ─╫──╫─┤M├─────────\n",
       "      ║  ║ └╥┘┌─┐      \n",
       "q_3: ─╫──╫──╫─┤M├──────\n",
       "      ║  ║  ║ └╥┘┌─┐   \n",
       "q_4: ─╫──╫──╫──╫─┤M├───\n",
       "      ║  ║  ║  ║ └╥┘┌─┐\n",
       "q_5: ─╫──╫──╫──╫──╫─┤M├\n",
       "      ║  ║  ║  ║  ║ └╥┘\n",
       "c: 6/═╩══╩══╩══╩══╩══╩═\n",
       "      0  1  2  3  4  5 </pre>"
      ],
      "text/plain": [
       "     ┌─┐               \n",
       "q_0: ┤M├───────────────\n",
       "     └╥┘┌─┐            \n",
       "q_1: ─╫─┤M├────────────\n",
       "      ║ └╥┘┌─┐         \n",
       "q_2: ─╫──╫─┤M├─────────\n",
       "      ║  ║ └╥┘┌─┐      \n",
       "q_3: ─╫──╫──╫─┤M├──────\n",
       "      ║  ║  ║ └╥┘┌─┐   \n",
       "q_4: ─╫──╫──╫──╫─┤M├───\n",
       "      ║  ║  ║  ║ └╥┘┌─┐\n",
       "q_5: ─╫──╫──╫──╫──╫─┤M├\n",
       "      ║  ║  ║  ║  ║ └╥┘\n",
       "c: 6/═╩══╩══╩══╩══╩══╩═\n",
       "      0  1  2  3  4  5 "
      ]
     },
     "execution_count": 11,
     "metadata": {},
     "output_type": "execute_result"
    }
   ],
   "source": [
    "n_q = 6 #number of qubits in the circuit.\n",
    "n_b = 6 #number of output bits we will extract from the circuit at the end.\n",
    "qc_output2 = QuantumCircuit(n_q,n_b)\n",
    "\n",
    "for j in range(6):\n",
    "    qc_output2.measure(j,j)\n",
    "\n",
    "qc_output2.draw()   "
   ]
  },
  {
   "cell_type": "code",
   "execution_count": 12,
   "id": "0e19adf3",
   "metadata": {},
   "outputs": [
    {
     "data": {
      "text/html": [
       "<pre style=\"word-wrap: normal;white-space: pre;background: #fff0;line-height: 1.1;font-family: &quot;Courier New&quot;,Courier,monospace\">          ┌─┐               \n",
       "q_0: ─────┤M├───────────────\n",
       "          └╥┘┌─┐            \n",
       "q_1: ──────╫─┤M├────────────\n",
       "     ┌───┐ ║ └╥┘      ┌─┐   \n",
       "q_2: ┤ X ├─╫──╫───────┤M├───\n",
       "     └───┘ ║  ║ ┌─┐   └╥┘   \n",
       "q_3: ──────╫──╫─┤M├────╫────\n",
       "           ║  ║ └╥┘┌─┐ ║    \n",
       "q_4: ──────╫──╫──╫─┤M├─╫────\n",
       "     ┌───┐ ║  ║  ║ └╥┘ ║ ┌─┐\n",
       "q_5: ┤ X ├─╫──╫──╫──╫──╫─┤M├\n",
       "     └───┘ ║  ║  ║  ║  ║ └╥┘\n",
       "c: 6/══════╩══╩══╩══╩══╩══╩═\n",
       "           0  1  3  4  2  5 </pre>"
      ],
      "text/plain": [
       "          ┌─┐               \n",
       "q_0: ─────┤M├───────────────\n",
       "          └╥┘┌─┐            \n",
       "q_1: ──────╫─┤M├────────────\n",
       "     ┌───┐ ║ └╥┘      ┌─┐   \n",
       "q_2: ┤ X ├─╫──╫───────┤M├───\n",
       "     └───┘ ║  ║ ┌─┐   └╥┘   \n",
       "q_3: ──────╫──╫─┤M├────╫────\n",
       "           ║  ║ └╥┘┌─┐ ║    \n",
       "q_4: ──────╫──╫──╫─┤M├─╫────\n",
       "     ┌───┐ ║  ║  ║ └╥┘ ║ ┌─┐\n",
       "q_5: ┤ X ├─╫──╫──╫──╫──╫─┤M├\n",
       "     └───┘ ║  ║  ║  ║  ║ └╥┘\n",
       "c: 6/══════╩══╩══╩══╩══╩══╩═\n",
       "           0  1  3  4  2  5 "
      ]
     },
     "execution_count": 12,
     "metadata": {},
     "output_type": "execute_result"
    }
   ],
   "source": [
    "qc2 = qc_encode2 + qc_output2\n",
    "qc2.draw()"
   ]
  },
  {
   "cell_type": "code",
   "execution_count": 13,
   "id": "31fb9790",
   "metadata": {},
   "outputs": [
    {
     "data": {
      "image/png": "[encoded data removed]",
      "text/plain": [
       "<Figure size 504x360 with 1 Axes>"
      ]
     },
     "execution_count": 13,
     "metadata": {},
     "output_type": "execute_result"
    }
   ],
   "source": [
    "qobj2 = assemble(qc_output2)  # this turns the circuit into an object our backend can run\n",
    "result2 = sim.run(qobj2).result()  # we run the experiment and get the result from that experiment\n",
    "# from the results, we get a dictionary containing the number of times (counts)\n",
    "# each result appeared\n",
    "counts2 = result2.get_counts()\n",
    "# and display it on a histogram\n",
    "plot_histogram(counts2)"
   ]
  },
  {
   "cell_type": "code",
   "execution_count": 14,
   "id": "2ad837d2",
   "metadata": {},
   "outputs": [
    {
     "data": {
      "image/png": "[encoded data removed]",
      "text/plain": [
       "<Figure size 504x360 with 1 Axes>"
      ]
     },
     "execution_count": 14,
     "metadata": {},
     "output_type": "execute_result"
    }
   ],
   "source": [
    "qobj2 = assemble(qc2)\n",
    "counts2 = sim.run(qobj2).result().get_counts()\n",
    "plot_histogram(counts2)"
   ]
  },
  {
   "cell_type": "markdown",
   "id": "da766f59",
   "metadata": {},
   "source": [
    "## Adding qubits"
   ]
  },
  {
   "cell_type": "markdown",
   "id": "63976a80",
   "metadata": {},
   "source": [
    "To add 2 qubits we need to perform the following: \n",
    "\n",
    "0+0 = 00\n",
    "\n",
    "0+1 = 01\n",
    "\n",
    "1+0 = 01\n",
    "\n",
    "1+1 = 10\n",
    "\n",
    "This is achieved by the use of a CNOT (in a classical computer, a XOR gate)\n",
    "\n",
    "\n",
    "#### Obs: \n",
    "CNOT action: it looks at its two input bits to see whether they are the same or different. Next, it overwrites the target qubit with the answer. The target becomes 0 if they are the same, and 1 if they are different."
   ]
  },
  {
   "cell_type": "code",
   "execution_count": 15,
   "id": "de215b96",
   "metadata": {},
   "outputs": [
    {
     "data": {
      "text/html": [
       "<pre style=\"word-wrap: normal;white-space: pre;background: #fff0;line-height: 1.1;font-family: &quot;Courier New&quot;,Courier,monospace\">          \n",
       "q_0: ──■──\n",
       "     ┌─┴─┐\n",
       "q_1: ┤ X ├\n",
       "     └───┘</pre>"
      ],
      "text/plain": [
       "          \n",
       "q_0: ──■──\n",
       "     ┌─┴─┐\n",
       "q_1: ┤ X ├\n",
       "     └───┘"
      ]
     },
     "execution_count": 15,
     "metadata": {},
     "output_type": "execute_result"
    }
   ],
   "source": [
    "qc_cnot = QuantumCircuit(2) #quantum circuit of 2 qubits\n",
    "qc_cnot.cx(0,1) #cnot between qubits 0 and 1\n",
    "qc_cnot.draw() #draw the circuit"
   ]
  },
  {
   "cell_type": "markdown",
   "id": "8f1607f4",
   "metadata": {},
   "source": [
    "control qubit: the one with the little dot\n",
    "\n",
    "target qubit: with the big square"
   ]
  },
  {
   "cell_type": "markdown",
   "id": "a8bd0865",
   "metadata": {},
   "source": [
    "#### Cnot example"
   ]
  },
  {
   "cell_type": "code",
   "execution_count": 16,
   "id": "3e29eead",
   "metadata": {},
   "outputs": [
    {
     "data": {
      "text/html": [
       "<pre style=\"word-wrap: normal;white-space: pre;background: #fff0;line-height: 1.1;font-family: &quot;Courier New&quot;,Courier,monospace\">     ┌───┐     ┌─┐   \n",
       "q_0: ┤ X ├──■──┤M├───\n",
       "     └───┘┌─┴─┐└╥┘┌─┐\n",
       "q_1: ─────┤ X ├─╫─┤M├\n",
       "          └───┘ ║ └╥┘\n",
       "c: 2/═══════════╩══╩═\n",
       "                0  1 </pre>"
      ],
      "text/plain": [
       "     ┌───┐     ┌─┐   \n",
       "q_0: ┤ X ├──■──┤M├───\n",
       "     └───┘┌─┴─┐└╥┘┌─┐\n",
       "q_1: ─────┤ X ├─╫─┤M├\n",
       "          └───┘ ║ └╥┘\n",
       "c: 2/═══════════╩══╩═\n",
       "                0  1 "
      ]
     },
     "execution_count": 16,
     "metadata": {},
     "output_type": "execute_result"
    }
   ],
   "source": [
    "qc = QuantumCircuit(2,2)\n",
    "qc.x(0) #apply x on qubit 0; It becomes 1\n",
    "qc.cx(0,1) #apply cnot between qbit 0 and 1\n",
    "qc.measure(0,0) \n",
    "qc.measure(1,1)\n",
    "qc.draw()"
   ]
  },
  {
   "cell_type": "code",
   "execution_count": 17,
   "id": "7266ef22",
   "metadata": {},
   "outputs": [
    {
     "data": {
      "image/png": "[encoded data removed]",
      "text/plain": [
       "<Figure size 504x360 with 1 Axes>"
      ]
     },
     "execution_count": 17,
     "metadata": {},
     "output_type": "execute_result"
    }
   ],
   "source": [
    "qobja = assemble(qc)  # this turns the circuit into an object our backend can run\n",
    "resulta = sim.run(qobja).result()  # we run the experiment and get the result from that experiment\n",
    "# from the results, we get a dictionary containing the number of times (counts)\n",
    "# each result appeared\n",
    "countsa = resulta.get_counts()\n",
    "# and display it on a histogram\n",
    "plot_histogram(countsa)"
   ]
  },
  {
   "cell_type": "markdown",
   "id": "99324424",
   "metadata": {},
   "source": [
    "Thefore, by running the circut above, we found that the output is 11. We can think of this happening because of either of the following reasons:\n",
    "\n",
    "* The CNOT calculates whether the input values are different and finds that they are, which means that it wants to output 1. It does this by writing over the state of qubit 1 (which, remember, is on the left of the bit string), turning 01 into 11.\n",
    "\n",
    "* The CNOT sees that qubit 0 is in state 1, and so applies a NOT to qubit 1. This flips the 0 of qubit 1 into a 1, and so turns 01 into 11."
   ]
  },
  {
   "cell_type": "markdown",
   "id": "0d534f3a",
   "metadata": {},
   "source": [
    "Here is a table showing all the possible inputs and corresponding outputs of the CNOT gate:\n",
    "\n",
    "    Input (q1 q0)\tOutput (q1 q0)\n",
    "\n",
    "            00\t      00\n",
    "\n",
    "            01\t      11\n",
    "\n",
    "            10\t      10\n",
    "\n",
    "            11\t      01"
   ]
  },
  {
   "cell_type": "markdown",
   "id": "9e3c0561",
   "metadata": {},
   "source": [
    "==> If we don’t want to overwrite one of our inputs but, instead, write the result on a different pair of qubits, can use two CNOTs and a Toffoli gate (AND classical gate):"
   ]
  },
  {
   "cell_type": "code",
   "execution_count": 18,
   "id": "13065aba",
   "metadata": {},
   "outputs": [
    {
     "data": {
      "text/html": [
       "<pre style=\"word-wrap: normal;white-space: pre;background: #fff0;line-height: 1.1;font-family: &quot;Courier New&quot;,Courier,monospace\">     ┌───┐ ░                 ░       \n",
       "q_0: ┤ X ├─░───■─────────■───░───────\n",
       "     ├───┤ ░   │         │   ░       \n",
       "q_1: ┤ X ├─░───┼────■────■───░───────\n",
       "     └───┘ ░ ┌─┴─┐┌─┴─┐  │   ░ ┌─┐   \n",
       "q_2: ──────░─┤ X ├┤ X ├──┼───░─┤M├───\n",
       "           ░ └───┘└───┘┌─┴─┐ ░ └╥┘┌─┐\n",
       "q_3: ──────░───────────┤ X ├─░──╫─┤M├\n",
       "           ░           └───┘ ░  ║ └╥┘\n",
       "c: 2/═══════════════════════════╩══╩═\n",
       "                                0  1 </pre>"
      ],
      "text/plain": [
       "     ┌───┐ ░                 ░       \n",
       "q_0: ┤ X ├─░───■─────────■───░───────\n",
       "     ├───┤ ░   │         │   ░       \n",
       "q_1: ┤ X ├─░───┼────■────■───░───────\n",
       "     └───┘ ░ ┌─┴─┐┌─┴─┐  │   ░ ┌─┐   \n",
       "q_2: ──────░─┤ X ├┤ X ├──┼───░─┤M├───\n",
       "           ░ └───┘└───┘┌─┴─┐ ░ └╥┘┌─┐\n",
       "q_3: ──────░───────────┤ X ├─░──╫─┤M├\n",
       "           ░           └───┘ ░  ║ └╥┘\n",
       "c: 2/═══════════════════════════╩══╩═\n",
       "                                0  1 "
      ]
     },
     "execution_count": 18,
     "metadata": {},
     "output_type": "execute_result"
    }
   ],
   "source": [
    "qc_ha = QuantumCircuit(4,2)\n",
    "# encode inputs in qubits 0 and 1\n",
    "qc_ha.x(0) # For a=0, remove the this line. For a=1, leave it.\n",
    "qc_ha.x(1) # For b=0, remove the this line. For b=1, leave it.\n",
    "qc_ha.barrier()\n",
    "# use cnots to write the XOR of the inputs on qubit 2\n",
    "qc_ha.cx(0,2)\n",
    "qc_ha.cx(1,2)\n",
    "# use ccx to write the AND of the inputs on qubit 3\n",
    "qc_ha.ccx(0,1,3)\n",
    "qc_ha.barrier()\n",
    "# extract outputs\n",
    "qc_ha.measure(2,0) # extract XOR value\n",
    "qc_ha.measure(3,1) # extract AND value\n",
    "\n",
    "qc_ha.draw()"
   ]
  },
  {
   "cell_type": "code",
   "execution_count": 19,
   "id": "c5abe212",
   "metadata": {},
   "outputs": [
    {
     "data": {
      "image/png": "[encoded data removed]",
      "text/plain": [
       "<Figure size 504x360 with 1 Axes>"
      ]
     },
     "execution_count": 19,
     "metadata": {},
     "output_type": "execute_result"
    }
   ],
   "source": [
    "qobj = assemble(qc_ha)\n",
    "counts = sim.run(qobj).result().get_counts()\n",
    "plot_histogram(counts)"
   ]
  },
  {
   "cell_type": "markdown",
   "id": "8cf91229",
   "metadata": {},
   "source": [
    "Therefore, in this example, we are calculating 1+1, because the two input bits are both 1. The result is 10, which is the binary representation of the number 2. We have built a computer that can solve the famous mathematical problem of 1+1"
   ]
  }
 ],
 "metadata": {
  "kernelspec": {
   "display_name": "Python 3",
   "language": "python",
   "name": "python3"
  },
  "language_info": {
   "codemirror_mode": {
    "name": "ipython",
    "version": 3
   },
   "file_extension": ".py",
   "mimetype": "text/x-python",
   "name": "python",
   "nbconvert_exporter": "python",
   "pygments_lexer": "ipython3",
   "version": "3.8.8"
  }
 },
 "nbformat": 4,
 "nbformat_minor": 5
}
